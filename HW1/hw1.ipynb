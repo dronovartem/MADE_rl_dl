{
 "cells": [
  {
   "cell_type": "code",
   "execution_count": 1,
   "metadata": {},
   "outputs": [],
   "source": [
    "import gym\r\n",
    "import numpy as np\r\n",
    "import matplotlib.pyplot as plt\r\n",
    "\r\n",
    "\r\n",
    "env = gym.make('Blackjack-v0', natural=True)"
   ]
  },
  {
   "cell_type": "markdown",
   "metadata": {},
   "source": [
    "В нотбуке приведены основные результаты, код исполняемых функций в большинстве своем выделен в модули `agents.py` и `blackjack_with_counting.py`."
   ]
  },
  {
   "cell_type": "markdown",
   "metadata": {},
   "source": [
    "# Часть первая, с блекджеком и стратегиями"
   ]
  },
  {
   "cell_type": "markdown",
   "metadata": {},
   "source": [
    " 1. Рассмотрим очень простую стратегию: говорить stand, если у нас на руках комбинация в 19, 20 или 21 очко, во всех остальных случаях говорить hit. \r\n",
    "Используйте методы Монте-Карло, чтобы оценить выигрыш от этой стратегии."
   ]
  },
  {
   "cell_type": "code",
   "execution_count": 2,
   "metadata": {},
   "outputs": [
    {
     "data": {
      "text/plain": "-0.17781"
     },
     "execution_count": 2,
     "metadata": {},
     "output_type": "execute_result"
    }
   ],
   "source": [
    "def simple_policy_loop(n_rounds):\r\n",
    "    STOP_SET = (19, 20, 21)\r\n",
    "    score = 0\r\n",
    "    for _ in range(n_rounds):\r\n",
    "        points, _, _ = env.reset()\r\n",
    "        done = False\r\n",
    "        while not done:\r\n",
    "            action = 0 if points in STOP_SET else 1\r\n",
    "            observation, reward, done, _ = env.step(action)\r\n",
    "            points = observation[0]\r\n",
    "        score += reward\r\n",
    "    return score / n_rounds\r\n",
    "\r\n",
    "simple_policy_loop(n_rounds=200000)"
   ]
  },
  {
   "cell_type": "markdown",
   "metadata": {},
   "source": [
    ".2. Реализуйте метод обучения с подкреплением без модели (можно Q-обучение, но рекомендую попробовать и другие, например Monte Carlo control) для обучения стратегии в блекджеке, используя окружение Blackjack-v0 из OpenAI Gym."
   ]
  },
  {
   "cell_type": "markdown",
   "metadata": {},
   "source": [
    "Для решения задачи было реализовано Q-обучение, код представлен в модуле `agents.py`."
   ]
  },
  {
   "cell_type": "code",
   "execution_count": 4,
   "metadata": {},
   "outputs": [],
   "source": [
    "from agents import BlackjackDefaultAgent"
   ]
  },
  {
   "cell_type": "markdown",
   "metadata": {},
   "source": [
    ".3. Сколько выигрывает казино у вашей стратегии? Нарисуйте графики среднего дохода вашего метода (усреднённого по крайней мере по 100000 раздач, а лучше больше) по ходу обучения. Попробуйте подобрать оптимальные гиперпараметры."
   ]
  },
  {
   "cell_type": "markdown",
   "metadata": {},
   "source": [
    "Ниже приведены также функции для подбора гиперпараметров и для изображения динамики обучения."
   ]
  },
  {
   "cell_type": "code",
   "execution_count": 6,
   "metadata": {},
   "outputs": [],
   "source": [
    "def opt_search(agent_type, n_train_episodes=100000, n_test_episodes=100000, env=None):\r\n",
    "    best_eps, best_alpha = -1, -1\r\n",
    "    best_reward = -1.\r\n",
    "    eps_vals = [0.05, 0.1, 0.2, 0.4, 0.5, 0.8]\r\n",
    "    alpha_vals = [1e-5, 1e-4, 3e-4, 1e-3, 3e-3, 1e-2]\r\n",
    "    for epsilon in eps_vals:\r\n",
    "        for alpha in alpha_vals:\r\n",
    "            agent = agent_type(epsilon, alpha, env=env)\r\n",
    "            reward = agent.learn(\r\n",
    "                n_train_episodes=n_train_episodes,\r\n",
    "                n_test_episodes=n_test_episodes,\r\n",
    "                verbose=n_train_episodes,\r\n",
    "                show=False)[0]\r\n",
    "            if reward > best_reward:\r\n",
    "                best_reward = reward\r\n",
    "                best_eps = epsilon\r\n",
    "                best_alpha = alpha\r\n",
    "                print(\r\n",
    "                \"Params updated: epsilon={}, alpha={} achieved reward {}\".format(\r\n",
    "                best_eps, best_alpha, best_reward)\r\n",
    "                )\r\n",
    "    print(\r\n",
    "        \"Best reward {} was achieved with epsilon={} and alpha={}\".format(\r\n",
    "        best_reward, best_eps, best_alpha)\r\n",
    "        )\r\n",
    "    return best_eps, best_alpha\r\n",
    "\r\n",
    "def learn_dynamics(\r\n",
    "    agent,\r\n",
    "    n_train_episodes=100000,\r\n",
    "    n_test_episodes=100000,\r\n",
    "    step=10000):\r\n",
    "    rewards = agent.learn(\r\n",
    "                n_train_episodes=n_train_episodes,\r\n",
    "                n_test_episodes=n_test_episodes,\r\n",
    "                verbose=step,\r\n",
    "                show=False)\r\n",
    "    points = np.arange(step, n_train_episodes+1, step)\r\n",
    "    plt.plot(points, rewards)\r\n",
    "    plt.grid()\r\n",
    "    plt.xlabel(\"Num expiriments\")\r\n",
    "    plt.ylabel(\"Avg reward per episode\")"
   ]
  },
  {
   "cell_type": "code",
   "execution_count": 8,
   "metadata": {},
   "outputs": [
    {
     "name": "stdout",
     "output_type": "stream",
     "text": [
      "Params updated: epsilon=0.05, alpha=1e-05 achieved reward -0.09401\n",
      "Params updated: epsilon=0.05, alpha=0.0001 achieved reward -0.07858\n",
      "Params updated: epsilon=0.1, alpha=1e-05 achieved reward -0.072665\n",
      "Params updated: epsilon=0.1, alpha=0.0001 achieved reward -0.05143\n",
      "Params updated: epsilon=0.2, alpha=0.001 achieved reward -0.04667\n",
      "Params updated: epsilon=0.4, alpha=0.0003 achieved reward -0.04343\n",
      "Params updated: epsilon=0.5, alpha=1e-05 achieved reward -0.04169\n",
      "Params updated: epsilon=0.5, alpha=0.001 achieved reward -0.04098\n",
      "Params updated: epsilon=0.8, alpha=1e-05 achieved reward -0.036455\n",
      "Params updated: epsilon=0.8, alpha=0.0001 achieved reward -0.02868\n",
      "Best reward -0.02868 was achieved with epsilon=0.8 and alpha=0.0001\n"
     ]
    }
   ],
   "source": [
    "epsilon, alpha = opt_search(BlackjackDefaultAgent, env=None)"
   ]
  },
  {
   "cell_type": "markdown",
   "metadata": {},
   "source": [
    "Оказалось, что для этой среды требуется высокий exploration. Построим кривую обучения."
   ]
  },
  {
   "cell_type": "code",
   "execution_count": 16,
   "metadata": {},
   "outputs": [
    {
     "data": {
      "image/png": "[encoded data removed]",
      "text/plain": "<Figure size 432x288 with 1 Axes>"
     },
     "metadata": {
      "needs_background": "light"
     },
     "output_type": "display_data"
    }
   ],
   "source": [
    "agent = BlackjackDefaultAgent(epsilon, alpha)\r\n",
    "learn_dynamics(agent)"
   ]
  },
  {
   "cell_type": "markdown",
   "metadata": {},
   "source": [
    "Вполне предсказуемо, этого было недостаточно для победы :( Однако результат сильно лучше базовой стратегии."
   ]
  },
  {
   "cell_type": "markdown",
   "metadata": {},
   "source": [
    "## Часть вторая, удвоенная"
   ]
  },
  {
   "cell_type": "markdown",
   "metadata": {},
   "source": [
    "В базовый блекджек, описанный в предыдущем разделе, обыграть казино вряд ли получится. Но, к счастью, на этом история не заканчивается. Описанные выше правила были упрощёнными, а на самом деле у игрока есть ещё и другие возможности. Реализовывать split может оказаться непросто, поэтому давайте ограничимся удвоением ставки. Итак, у игрока появляется дополнительное действие:\r\n",
    "double — удвоить ставку; при этом больше действий делать нельзя, игроку выдаётся ровно одна дополнительная карта, а выигрыш или проигрыш удваивается.\r\n"
   ]
  },
  {
   "cell_type": "markdown",
   "metadata": {},
   "source": [
    ".4. Реализуйте новый вариант блекджека на основе окружения Blackjack-v0 из OpenAI Gym, в котором разрешено удвоение ставки."
   ]
  },
  {
   "cell_type": "markdown",
   "metadata": {},
   "source": [
    "Пронаследуем базовый класс и переопределим метод `step`, позволив удвоение."
   ]
  },
  {
   "cell_type": "code",
   "execution_count": 10,
   "metadata": {},
   "outputs": [],
   "source": [
    "class BlackJackWithDoubling(gym.envs.toy_text.BlackjackEnv):\r\n",
    "    def __init__(self, natural=True):\r\n",
    "        super().__init__(natural)\r\n",
    "        self.action_space = gym.spaces.Discrete(3)\r\n",
    "        \r\n",
    "    def step(self, action):\r\n",
    "        if action == 2:\r\n",
    "            # pick one card\r\n",
    "            obs, reward, done, info = super().step(1)\r\n",
    "            # if not done, i can just stick\r\n",
    "            if not done:\r\n",
    "                obs, reward, done, info = super().step(0)\r\n",
    "            return obs, reward * 2, done, info\r\n",
    "        else:\r\n",
    "            return super().step(action)"
   ]
  },
  {
   "cell_type": "markdown",
   "metadata": {},
   "source": [
    ".5. Реализуйте метод обучения с подкреплением без модели для этого варианта, постройте графики, аналогичные п.2."
   ]
  },
  {
   "cell_type": "markdown",
   "metadata": {},
   "source": [
    "Класс `BlackjackDefaultAgent` был изначально адаптирован для модифицированного окружения, нужно лишь указать его. Само обучение не отличается."
   ]
  },
  {
   "cell_type": "code",
   "execution_count": 11,
   "metadata": {},
   "outputs": [
    {
     "name": "stdout",
     "output_type": "stream",
     "text": [
      "Params updated: epsilon=0.05, alpha=1e-05 achieved reward -0.11624\n",
      "Params updated: epsilon=0.05, alpha=0.0001 achieved reward -0.09361\n",
      "Params updated: epsilon=0.1, alpha=1e-05 achieved reward -0.092935\n",
      "Params updated: epsilon=0.2, alpha=0.0003 achieved reward -0.06617\n",
      "Params updated: epsilon=0.4, alpha=1e-05 achieved reward -0.04586\n",
      "Params updated: epsilon=0.5, alpha=1e-05 achieved reward -0.03599\n",
      "Params updated: epsilon=0.8, alpha=1e-05 achieved reward -0.03105\n",
      "Params updated: epsilon=0.8, alpha=0.0001 achieved reward -0.028605\n",
      "Params updated: epsilon=0.8, alpha=0.0003 achieved reward -0.02236\n",
      "Best reward -0.02236 was achieved with epsilon=0.8 and alpha=0.0003\n"
     ]
    }
   ],
   "source": [
    "epsilon, alpha = opt_search(BlackjackDefaultAgent, env=BlackJackWithDoubling())"
   ]
  },
  {
   "cell_type": "code",
   "execution_count": 14,
   "metadata": {},
   "outputs": [
    {
     "data": {
      "image/png": "[encoded data removed]",
      "text/plain": "<Figure size 432x288 with 1 Axes>"
     },
     "metadata": {
      "needs_background": "light"
     },
     "output_type": "display_data"
    }
   ],
   "source": [
    "agent = BlackjackDefaultAgent(epsilon, alpha, env=BlackJackWithDoubling())\r\n",
    "learn_dynamics(agent)"
   ]
  },
  {
   "cell_type": "markdown",
   "metadata": {},
   "source": [
    "Удалось получить небольшое преимущество относительно прошлой стратегии, однако, его по прежнему недостаточно для победы."
   ]
  },
  {
   "cell_type": "markdown",
   "metadata": {},
   "source": [
    "## Часть третья, в главной роли — Дастин Хоффман"
   ]
  },
  {
   "cell_type": "markdown",
   "metadata": {},
   "source": [
    "А теперь давайте вспомним, как играют в блекджек настоящие профессионалы. Дело в том, что в оффлайн-казино обычно не перемешивают колоду после каждой раздачи — это слишком замедляло бы игру. После раздачи карты просто раздаются дальше с верха колоды до тех пор, пока карт не останется слишком мало, и только тогда колода перемешивается; давайте для определённости считать, что наше казино будет перемешивать колоду, в которой осталось меньше 15 карт.\r\n",
    "Думаю, у вас уже возникла в голове эта картинка:\r\n",
    "\r\n",
    "Действительно, если вы будете запоминать, какие карты уже вышли, у вас будет информация о том, какие карты ещё остались, а это позволяет лучше понять, когда нужно удваивать ставку или делать split, а когда лучше не стоит. В настоящем казино могут раздавать карты сразу из нескольких колод, и заслуга Rain Man’а была в том, что он смог считать карты в шести колодах одновременно. Но мы с вами вооружены компьютерами, так что подсчёт можно считать автоматическим."
   ]
  },
  {
   "cell_type": "markdown",
   "metadata": {},
   "source": [
    "*6. Реализуйте вариант окружения Blackjack-v0 из предыдущей части (с удвоением), в котором игрок имеет возможность “считать карты” в колоде. Это можно сделать разными способами; возможно, вам поможет статья википедии о блекджеке (а возможно, и нет)."
   ]
  },
  {
   "cell_type": "markdown",
   "metadata": {},
   "source": [
    "Для этого пункта пришлось побольше изменить окружение (новое реализовано в модуле `blackjack_with_counting.py`), а также реализовать нового агента (немного изменить реализацию, обучается также Q-обучением.)\r\n",
    "Для решения задачи я пробовал реализовать оба метода подсчета (реализация малоотличима), значительной разницы в результате я не заметил и остановился на подсчете половинками."
   ]
  },
  {
   "cell_type": "code",
   "execution_count": 6,
   "metadata": {},
   "outputs": [],
   "source": [
    "from blackjack_with_counting import BlackJackWithCounting\r\n",
    "from agents import BlackjackCountingAgent"
   ]
  },
  {
   "cell_type": "markdown",
   "metadata": {},
   "source": [
    "*7. Реализуйте метод обучения с подкреплением без модели для этого варианта, постройте графики, аналогичные п.2."
   ]
  },
  {
   "cell_type": "code",
   "execution_count": 19,
   "metadata": {},
   "outputs": [
    {
     "name": "stdout",
     "output_type": "stream",
     "text": [
      "Params updated: epsilon=0.05, alpha=1e-05 achieved reward -0.14738\n",
      "Params updated: epsilon=0.05, alpha=0.0001 achieved reward -0.12878\n",
      "Params updated: epsilon=0.1, alpha=0.003 achieved reward -0.127225\n",
      "Params updated: epsilon=0.2, alpha=1e-05 achieved reward -0.12709\n",
      "Params updated: epsilon=0.2, alpha=0.0001 achieved reward -0.126745\n",
      "Params updated: epsilon=0.2, alpha=0.003 achieved reward -0.126695\n",
      "Params updated: epsilon=0.2, alpha=0.01 achieved reward -0.1213\n",
      "Params updated: epsilon=0.4, alpha=1e-05 achieved reward -0.12008\n",
      "Params updated: epsilon=0.4, alpha=0.0001 achieved reward -0.117375\n",
      "Params updated: epsilon=0.4, alpha=0.0003 achieved reward -0.10683\n",
      "Params updated: epsilon=0.5, alpha=1e-05 achieved reward -0.1052\n",
      "Params updated: epsilon=0.5, alpha=0.003 achieved reward -0.10382\n",
      "Params updated: epsilon=0.8, alpha=0.0001 achieved reward -0.101335\n",
      "Params updated: epsilon=0.8, alpha=0.0003 achieved reward -0.09866\n",
      "Params updated: epsilon=0.8, alpha=0.001 achieved reward -0.085835\n",
      "Best reward -0.085835 was achieved with epsilon=0.8 and alpha=0.001\n"
     ]
    }
   ],
   "source": [
    "epsilon, alpha = opt_search(BlackjackCountingAgent, env=BlackJackWithCounting())"
   ]
  },
  {
   "cell_type": "code",
   "execution_count": 11,
   "metadata": {},
   "outputs": [
    {
     "data": {
      "image/png": "[encoded data removed]",
      "text/plain": "<Figure size 432x288 with 1 Axes>"
     },
     "metadata": {
      "needs_background": "light"
     },
     "output_type": "display_data"
    }
   ],
   "source": [
    "counting_agent = BlackjackCountingAgent(epsilon, alpha, env=BlackJackWithCounting())\r\n",
    "learn_dynamics(counting_agent,n_train_episodes=1000000,\r\n",
    "    n_test_episodes=100000,\r\n",
    "    step=100000)"
   ]
  },
  {
   "cell_type": "markdown",
   "metadata": {},
   "source": [
    "Поскольку пространство действий и исходов сильно увеличилось, ста тысяч экспериментов стало абсолютно недостаточно. На графике изображена динамика обучения на миллионе экспериментов. В связи с увеличением количества сэмлпов, сравнивать исходы с прошлыми моделями не совсем корректно. Наилучший результат этой реализации был лучше, чем ранее (он не попал на график, но составил чуть менее -0,01). Таким образом, обыграть казино не вышло."
   ]
  }
 ],
 "metadata": {
  "kernelspec": {
   "display_name": "Python 3.7.6 64-bit ('base': conda)",
   "name": "python376jvsc74a57bd0792f07c579a44d271d5a954d86ef011389b68884100490bdbcebda3a249cd0b2"
  },
  "language_info": {
   "name": "python",
   "version": ""
  },
  "orig_nbformat": 2
 },
 "nbformat": 4,
 "nbformat_minor": 2
}